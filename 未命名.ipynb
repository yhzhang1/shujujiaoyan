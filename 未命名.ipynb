{
 "cells": [
  {
   "cell_type": "code",
   "execution_count": 1,
   "metadata": {},
   "outputs": [],
   "source": [
    "from dqt import DBUtils, get_fut_min, get_fut_taq\n",
    "import pandas as pd\n",
    "import numpy as np"
   ]
  },
  {
   "cell_type": "code",
   "execution_count": 24,
   "metadata": {},
   "outputs": [
    {
     "name": "stdout",
     "output_type": "stream",
     "text": [
      "Help on DBUtils in module dqt.debugo_utils object:\n",
      "\n",
      "class DBUtils(builtins.object)\n",
      " |  Methods defined here:\n",
      " |  \n",
      " |  __init__(self, db_info={'host': '127.0.0.1', 'port': 8000, 'user': 'quantdb', 'passwd': 'Qwe|54321', 'db': 'quantdb'})\n",
      " |      Initialize self.  See help(type(self)) for accurate signature.\n",
      " |  \n",
      " |  clear_factor_result(self, factor_name, signal_name=None, table_name='backtest_results')\n",
      " |  \n",
      " |  get_all(self, variety=None, start_date='2015-01-01', end_date=None, table='all_future_daily', fields='*')\n",
      " |  \n",
      " |  get_daily(self, symbol=None)\n",
      " |  \n",
      " |  get_factor(self, factor_name, index_on=['symbol', 'date'], signal_name='*', symbol=None, variety=None, start_date='2013-01-01', end_date=None)\n",
      " |  \n",
      " |  get_future_min(self, variety=None, symbol=None, start_date='2015-01-01', end_date=None, bar_size=1)\n",
      " |      获得期货分钟数据\n",
      " |      @param variety: 品种名称，比如ic, ih, if\n",
      " |      @param symbol: 合约代码, 比如IF1812。variety和symbol必须指定其中一个\n",
      " |      @param start_date: 开始日期。 None, datetime.date类型或者字符串类型，比如'2015-01-01'。默认为2015-01-01\n",
      " |      @param end_date: 结束日期。None, datetime.date类型或者字符串类型，比如'2015-01-01'。默认为None\n",
      " |      @parma bar_size：分钟线大小，比如1。默认为1\n",
      " |      \n",
      " |      @return pd.DataFrame\n",
      " |  \n",
      " |  get_future_taq(self, symbol, start_date=None, end_date=None)\n",
      " |  \n",
      " |  get_index_data(self, indicator=None, start_date='2009-12-30', column='close', index_data_table='index_data')\n",
      " |  \n",
      " |  get_index_info(self, indicator=None, index_info_table='index_codes')\n",
      " |  \n",
      " |  get_indicator_data(self, indicators, indicator_data_table='indicator_data', code_column='qtid')\n",
      " |  \n",
      " |  get_indicator_info(self, indicator_info_table='indicator_codes')\n",
      " |  \n",
      " |  get_info(self, variety=None)\n",
      " |  \n",
      " |  get_intertemporal(self, variety, start_date, end_date=None, mode='main_sub')\n",
      " |  \n",
      " |  get_main_daily(self, variety=None, start_date='2015-01-01', end_date=None)\n",
      " |  \n",
      " |  get_mfl1_mssql(self, symbol, start_date, end_date, mins='01')\n",
      " |  \n",
      " |  get_stock_daily(self, symbol=None, start_date='2012-01-01', end_date=None, columns='*', table_name='all_ashare_daily')\n",
      " |  \n",
      " |  get_stock_info(self, table_name='ashare_info')\n",
      " |  \n",
      " |  get_submain_daily2(self, variety, start_date='2013-01-01')\n",
      " |  \n",
      " |  get_symbol_daily(self, symbol, day, table='wind_min_recently')\n",
      " |  \n",
      " |  get_symbol_data(self, symbol, start_date='2015-01-01', end_date=None, table='all_future_daily', fields='*')\n",
      " |  \n",
      " |  get_trading_day(self)\n",
      " |  \n",
      " |  get_trading_day_diff(self, start, end)\n",
      " |  \n",
      " |  get_trading_day_map(self)\n",
      " |  \n",
      " |  is_trading_day(self, day)\n",
      " |  \n",
      " |  save_factor(self, data, factor_name, append=True, save_index=False)\n",
      " |  \n",
      " |  to_trading_day(self, day=None, shift=0, forward=True)\n",
      " |      get specified trading day with a shift and forward direction.\n",
      " |      \n",
      " |      :param day: string. Start day like '2015-01-01'.\n",
      " |      :param shift: integer. Date shift.\n",
      " |      :param forward: boolean. Forward or backward day as trading day.\n",
      " |      :return: string. The desired trading day.\n",
      " |      :cvar: to_trading_day(\"2015-01-01\", shift=-1), to_trading_day(\"2015-01-01\", shift=0, forward=False)\n",
      " |  \n",
      " |  ----------------------------------------------------------------------\n",
      " |  Static methods defined here:\n",
      " |  \n",
      " |  date_transform(day, date_pattern=re.compile('^([0-9]{4})[-/]?([0-9]{2})[-/]?([0-9]{2})'))\n",
      " |      transform a date string to datetime.date object.\n",
      " |      :param day, string, e.g. 2016-01-01, 20160101 or 2016/01/01\n",
      " |      :return: object of datetime.date(such as 2016-01-01) or None\n",
      " |  \n",
      " |  ----------------------------------------------------------------------\n",
      " |  Data descriptors defined here:\n",
      " |  \n",
      " |  __dict__\n",
      " |      dictionary for instance variables (if defined)\n",
      " |  \n",
      " |  __weakref__\n",
      " |      list of weak references to the object (if defined)\n",
      "\n"
     ]
    }
   ],
   "source": [
    "dbu = DBUtils()\n",
    "help(dbu)"
   ]
  },
  {
   "cell_type": "code",
   "execution_count": 12,
   "metadata": {},
   "outputs": [
    {
     "data": {
      "text/plain": [
       "True"
      ]
     },
     "execution_count": 12,
     "metadata": {},
     "output_type": "execute_result"
    }
   ],
   "source": [
    "df.duplicated().any()"
   ]
  },
  {
   "cell_type": "code",
   "execution_count": 21,
   "metadata": {},
   "outputs": [
    {
     "data": {
      "text/plain": [
       "0    NaN\n",
       "1    2.0\n",
       "2    3.0\n",
       "3    4.0\n",
       "4    5.0\n",
       "dtype: float64"
      ]
     },
     "execution_count": 21,
     "metadata": {},
     "output_type": "execute_result"
    }
   ],
   "source": [
    "pd.DataFrame.rolling(pd.Series([1,2,3,4,5]), 2).max()"
   ]
  },
  {
   "cell_type": "code",
   "execution_count": 8,
   "metadata": {},
   "outputs": [
    {
     "name": "stdout",
     "output_type": "stream",
     "text": [
      "                            datetime    last  volume   turnover    oi      a1  \\\n",
      "trading_date                                                                    \n",
      "2018-11-27   2018-11-27 07:05:02.000  5980.0       0          0     0     0.0   \n",
      "2018-11-27   2018-11-27 08:59:00.500  5828.0    2072  120756160  2072  5830.0   \n",
      "2018-11-27   2018-11-27 09:00:00.500  5828.0    2812  163880480  2812  5828.0   \n",
      "2018-11-27   2018-11-27 09:00:01.000  5814.0    2936  171088040  2924  5812.0   \n",
      "2018-11-27   2018-11-27 09:00:01.500  5812.0    3102  180753320  3068  5808.0   \n",
      "2018-11-27   2018-11-27 09:00:02.000  5806.0    3498  203710120  3460  5806.0   \n",
      "2018-11-27   2018-11-27 09:00:02.500  5800.0    3688  214740840  3608  5800.0   \n",
      "2018-11-27   2018-11-27 09:00:03.000  5796.0    3848  224011240  3744  5796.0   \n",
      "2018-11-27   2018-11-27 09:00:03.500  5800.0    4244  246938280  4132  5800.0   \n",
      "2018-11-27   2018-11-27 09:00:04.000  5800.0    4416  256914520  4296  5802.0   \n",
      "2018-11-27   2018-11-27 09:00:04.500  5806.0    4608  268054200  4392  5806.0   \n",
      "2018-11-27   2018-11-27 09:00:05.000  5806.0    4968  288942200  4696  5808.0   \n",
      "2018-11-27   2018-11-27 09:00:05.500  5808.0    5048  293587960  4756  5808.0   \n",
      "2018-11-27   2018-11-27 09:00:06.000  5808.0    5158  299976760  4820  5810.0   \n",
      "2018-11-27   2018-11-27 09:00:06.500  5810.0    5328  309850280  4862  5820.0   \n",
      "2018-11-27   2018-11-27 09:00:07.000  5818.0    5386  313221760  4898  5818.0   \n",
      "2018-11-27   2018-11-27 09:00:07.500  5812.0    5466  317875000  4946  5812.0   \n",
      "2018-11-27   2018-11-27 09:00:08.000  5814.0    5596  325427920  5054  5814.0   \n",
      "2018-11-27   2018-11-27 09:00:08.500  5808.0    5638  327868360  5078  5810.0   \n",
      "2018-11-27   2018-11-27 09:00:09.000  5810.0    5774  335767840  5170  5810.0   \n",
      "2018-11-27   2018-11-27 09:00:09.500  5800.0    6090  354114760  5410  5800.0   \n",
      "2018-11-27   2018-11-27 09:00:10.000  5802.0    6348  369077240  5628  5794.0   \n",
      "2018-11-27   2018-11-27 09:00:10.500  5792.0    6508  378359400  5704  5790.0   \n",
      "2018-11-27   2018-11-27 09:00:11.000  5790.0    6560  381372640  5690  5800.0   \n",
      "2018-11-27   2018-11-27 09:00:11.500  5796.0    6680  388319680  5792  5798.0   \n",
      "2018-11-27   2018-11-27 09:00:12.000  5796.0    6702  389595000  5790  5798.0   \n",
      "2018-11-27   2018-11-27 09:00:12.500  5794.0    6758  392841120  5796  5798.0   \n",
      "2018-11-27   2018-11-27 09:00:13.000  5794.0    6798  395159240  5828  5798.0   \n",
      "2018-11-27   2018-11-27 09:00:13.500  5794.0    6832  397129280  5860  5798.0   \n",
      "2018-11-27   2018-11-27 09:00:14.000  5794.0    6856  398519720  5882  5792.0   \n",
      "...                              ...     ...     ...        ...   ...     ...   \n",
      "2019-06-17   2019-06-14 20:59:00.500  4680.0       0          0  5020  4708.0   \n",
      "2019-06-17   2019-06-14 21:00:00.500  4680.0       0          0  5020  4650.0   \n",
      "2019-06-17   2019-06-14 21:03:11.000  4680.0       0          0  5020  4650.0   \n",
      "2019-06-17   2019-06-14 21:03:19.500  4680.0       0          0  5020  4650.0   \n",
      "2019-06-17   2019-06-14 21:08:13.500  4680.0       0          0  5020  4650.0   \n",
      "2019-06-17   2019-06-14 21:10:41.500  4680.0       0          0  5020  4650.0   \n",
      "2019-06-17   2019-06-14 21:11:29.500  4680.0       0          0  5020  4650.0   \n",
      "2019-06-17   2019-06-14 21:20:05.000  4680.0       0          0  5020  4650.0   \n",
      "2019-06-17   2019-06-14 21:20:56.000  4680.0       0          0  5020  4650.0   \n",
      "2019-06-17   2019-06-14 21:21:11.500  4680.0       0          0  5020  4648.0   \n",
      "2019-06-17   2019-06-14 21:28:26.000  4680.0       0          0  5020  4650.0   \n",
      "2019-06-17   2019-06-14 21:28:39.000  4680.0       0          0  5020  4582.0   \n",
      "2019-06-17   2019-06-14 21:58:04.500  4680.0       0          0  5020  4650.0   \n",
      "2019-06-17   2019-06-14 21:58:32.000  4680.0       0          0  5020  4592.0   \n",
      "2019-06-17   2019-06-14 22:01:39.500  4680.0       0          0  5020  4650.0   \n",
      "2019-06-17   2019-06-14 22:02:02.500  4680.0       0          0  5020  4572.0   \n",
      "2019-06-17   2019-06-14 22:02:08.500  4680.0       0          0  5020  4572.0   \n",
      "2019-06-17   2019-06-14 23:00:00.500  4680.0       0          0  5020  4572.0   \n",
      "2019-06-17   2019-06-17 09:00:00.500  4680.0       0          0  5020  4572.0   \n",
      "2019-06-17   2019-06-17 09:17:13.000  4680.0       0          0  5020  4572.0   \n",
      "2019-06-17   2019-06-17 09:19:52.500  4680.0       0          0  5020  4572.0   \n",
      "2019-06-17   2019-06-17 09:25:41.000  4680.0       0          0  5020  4500.0   \n",
      "2019-06-17   2019-06-17 09:25:42.000  4500.0      36    1620000  4984  4572.0   \n",
      "2019-06-17   2019-06-17 10:15:00.500  4500.0      36    1620000  4984  4572.0   \n",
      "2019-06-17   2019-06-17 10:30:00.500  4500.0      36    1620000  4984  4572.0   \n",
      "2019-06-17   2019-06-17 11:30:00.500  4500.0      36    1620000  4984  4572.0   \n",
      "2019-06-17   2019-06-17 13:30:00.500  4500.0      36    1620000  4984  4572.0   \n",
      "2019-06-17   2019-06-17 14:57:31.000  4500.0      36    1620000  4984  4572.0   \n",
      "2019-06-17   2019-06-17 15:00:00.500  4500.0      36    1620000  4984  4572.0   \n",
      "2019-06-17   2019-06-17 15:16:08.500  4500.0      36    1620000  4984  4572.0   \n",
      "\n",
      "              a1v      b1  b1v  symbol  \n",
      "trading_date                            \n",
      "2018-11-27      0     0.0    0  SP1906  \n",
      "2018-11-27     33  5828.0  179  SP1906  \n",
      "2018-11-27    259  5812.0    1  SP1906  \n",
      "2018-11-27     10  5808.0    2  SP1906  \n",
      "2018-11-27     21  5802.0    9  SP1906  \n",
      "2018-11-27      7  5800.0    1  SP1906  \n",
      "2018-11-27     20  5788.0  232  SP1906  \n",
      "2018-11-27      4  5794.0    1  SP1906  \n",
      "2018-11-27     52  5798.0    1  SP1906  \n",
      "2018-11-27     14  5800.0   19  SP1906  \n",
      "2018-11-27     17  5804.0   10  SP1906  \n",
      "2018-11-27     49  5806.0    3  SP1906  \n",
      "2018-11-27     23  5806.0  105  SP1906  \n",
      "2018-11-27      5  5808.0    3  SP1906  \n",
      "2018-11-27    265  5810.0    2  SP1906  \n",
      "2018-11-27      1  5814.0    3  SP1906  \n",
      "2018-11-27      1  5810.0   29  SP1906  \n",
      "2018-11-27     94  5812.0    1  SP1906  \n",
      "2018-11-27     14  5808.0  109  SP1906  \n",
      "2018-11-27     13  5808.0   63  SP1906  \n",
      "2018-11-27     55  5798.0    3  SP1906  \n",
      "2018-11-27      2  5788.0   56  SP1906  \n",
      "2018-11-27      1  5788.0   48  SP1906  \n",
      "2018-11-27      8  5790.0    2  SP1906  \n",
      "2018-11-27     12  5794.0   12  SP1906  \n",
      "2018-11-27     13  5796.0   12  SP1906  \n",
      "2018-11-27      1  5794.0   12  SP1906  \n",
      "2018-11-27      1  5794.0    5  SP1906  \n",
      "2018-11-27      1  5790.0   20  SP1906  \n",
      "2018-11-27      1  5790.0   19  SP1906  \n",
      "...           ...     ...  ...     ...  \n",
      "2019-06-17     20     0.0    0  SP1906  \n",
      "2019-06-17     20  4400.0   20  SP1906  \n",
      "2019-06-17     20  4400.0   20  SP1906  \n",
      "2019-06-17     20  4400.0   20  SP1906  \n",
      "2019-06-17     20  4400.0   20  SP1906  \n",
      "2019-06-17     20  4400.0   20  SP1906  \n",
      "2019-06-17     20  4400.0   20  SP1906  \n",
      "2019-06-17     20  4400.0   20  SP1906  \n",
      "2019-06-17     20  4400.0   20  SP1906  \n",
      "2019-06-17     20  4400.0   20  SP1906  \n",
      "2019-06-17     20  4400.0   20  SP1906  \n",
      "2019-06-17     20  4400.0   20  SP1906  \n",
      "2019-06-17     20  4400.0   20  SP1906  \n",
      "2019-06-17     20  4400.0   20  SP1906  \n",
      "2019-06-17     20  4400.0   20  SP1906  \n",
      "2019-06-17     10  4400.0   20  SP1906  \n",
      "2019-06-17     10  4400.0   20  SP1906  \n",
      "2019-06-17     10  4400.0   20  SP1906  \n",
      "2019-06-17     10  4400.0   20  SP1906  \n",
      "2019-06-17     10  4400.0   20  SP1906  \n",
      "2019-06-17     10  4400.0   20  SP1906  \n",
      "2019-06-17     18  4400.0   20  SP1906  \n",
      "2019-06-17     10  4400.0   20  SP1906  \n",
      "2019-06-17     10  4400.0   20  SP1906  \n",
      "2019-06-17     10  4400.0   20  SP1906  \n",
      "2019-06-17     10  4400.0   20  SP1906  \n",
      "2019-06-17     10  4400.0   20  SP1906  \n",
      "2019-06-17     10  4400.0   20  SP1906  \n",
      "2019-06-17     10  4400.0   20  SP1906  \n",
      "2019-06-17     10  4400.0   20  SP1906  \n",
      "\n",
      "[3392625 rows x 10 columns]\n"
     ]
    }
   ],
   "source": [
    "taq_df = get_fut_taq('SP1906')\n",
    "print(taq_df)\n",
    "taq_df.to_csv('futures.csv')"
   ]
  },
  {
   "cell_type": "code",
   "execution_count": 52,
   "metadata": {},
   "outputs": [
    {
     "data": {
      "text/html": [
       "<div>\n",
       "<style scoped>\n",
       "    .dataframe tbody tr th:only-of-type {\n",
       "        vertical-align: middle;\n",
       "    }\n",
       "\n",
       "    .dataframe tbody tr th {\n",
       "        vertical-align: top;\n",
       "    }\n",
       "\n",
       "    .dataframe thead th {\n",
       "        text-align: right;\n",
       "    }\n",
       "</style>\n",
       "<table border=\"1\" class=\"dataframe\">\n",
       "  <thead>\n",
       "    <tr style=\"text-align: right;\">\n",
       "      <th></th>\n",
       "      <th>Animal</th>\n",
       "      <th>Max Speed</th>\n",
       "    </tr>\n",
       "  </thead>\n",
       "  <tbody>\n",
       "    <tr>\n",
       "      <th>0</th>\n",
       "      <td>Falcon</td>\n",
       "      <td>380.0</td>\n",
       "    </tr>\n",
       "    <tr>\n",
       "      <th>1</th>\n",
       "      <td>Falcon</td>\n",
       "      <td>370.0</td>\n",
       "    </tr>\n",
       "    <tr>\n",
       "      <th>2</th>\n",
       "      <td>Parrot</td>\n",
       "      <td>24.0</td>\n",
       "    </tr>\n",
       "    <tr>\n",
       "      <th>3</th>\n",
       "      <td>Parrot</td>\n",
       "      <td>26.0</td>\n",
       "    </tr>\n",
       "    <tr>\n",
       "      <th>4</th>\n",
       "      <td>Falcon</td>\n",
       "      <td>340.0</td>\n",
       "    </tr>\n",
       "  </tbody>\n",
       "</table>\n",
       "</div>"
      ],
      "text/plain": [
       "   Animal  Max Speed\n",
       "0  Falcon      380.0\n",
       "1  Falcon      370.0\n",
       "2  Parrot       24.0\n",
       "3  Parrot       26.0\n",
       "4  Falcon      340.0"
      ]
     },
     "execution_count": 52,
     "metadata": {},
     "output_type": "execute_result"
    }
   ],
   "source": [
    "df = pd.DataFrame({'Animal': ['Falcon', 'Falcon',\n",
    "                               'Parrot', 'Parrot', 'Falcon'],\n",
    "                   'Max Speed': [380., 370., 24., 26., 340]})\n",
    "df"
   ]
  },
  {
   "cell_type": "code",
   "execution_count": 61,
   "metadata": {},
   "outputs": [
    {
     "data": {
      "text/plain": [
       "['Falcon', 'Parrot']"
      ]
     },
     "execution_count": 61,
     "metadata": {},
     "output_type": "execute_result"
    }
   ],
   "source": [
    "list(df.groupby('Animal').groups.keys())"
   ]
  },
  {
   "cell_type": "code",
   "execution_count": 56,
   "metadata": {},
   "outputs": [
    {
     "data": {
      "text/plain": [
       "{'Falcon': array([0, 1, 4]), 'Parrot': array([2, 3])}"
      ]
     },
     "execution_count": 56,
     "metadata": {},
     "output_type": "execute_result"
    }
   ],
   "source": [
    "df.groupby('Animal').indices"
   ]
  },
  {
   "cell_type": "code",
   "execution_count": 45,
   "metadata": {},
   "outputs": [],
   "source": [
    "groupby_list = list(df.groupby('Animal'))"
   ]
  },
  {
   "cell_type": "code",
   "execution_count": 46,
   "metadata": {},
   "outputs": [
    {
     "data": {
      "text/plain": [
       "[('Falcon',    Animal  Max Speed\n",
       "  0  Falcon      380.0\n",
       "  1  Falcon      370.0\n",
       "  4  Falcon      340.0), ('Parrot',    Animal  Max Speed\n",
       "  2  Parrot       24.0\n",
       "  3  Parrot       26.0)]"
      ]
     },
     "execution_count": 46,
     "metadata": {},
     "output_type": "execute_result"
    }
   ],
   "source": [
    "groupby_list"
   ]
  },
  {
   "cell_type": "code",
   "execution_count": 48,
   "metadata": {},
   "outputs": [
    {
     "data": {
      "text/plain": [
       "('Falcon',    Animal  Max Speed\n",
       " 0  Falcon      380.0\n",
       " 1  Falcon      370.0\n",
       " 4  Falcon      340.0)"
      ]
     },
     "execution_count": 48,
     "metadata": {},
     "output_type": "execute_result"
    }
   ],
   "source": [
    "groupby_list[0]"
   ]
  },
  {
   "cell_type": "code",
   "execution_count": 51,
   "metadata": {},
   "outputs": [
    {
     "name": "stdout",
     "output_type": "stream",
     "text": [
      "i: 0\n",
      "Falcon\n",
      "<class 'str'>\n",
      "i: 1\n",
      "   Animal  Max Speed\n",
      "0  Falcon      380.0\n",
      "1  Falcon      370.0\n",
      "4  Falcon      340.0\n",
      "<class 'pandas.core.frame.DataFrame'>\n"
     ]
    }
   ],
   "source": [
    "for i, item in enumerate(groupby_list[0]):\n",
    "    print('i: {}'.format(i))\n",
    "    print(item)\n",
    "    print(type(item))"
   ]
  },
  {
   "cell_type": "code",
   "execution_count": 73,
   "metadata": {},
   "outputs": [
    {
     "name": "stdout",
     "output_type": "stream",
     "text": [
      "<class 'pandas.core.indexes.datetimes.DatetimeIndex'>\n"
     ]
    },
    {
     "data": {
      "text/plain": [
       "DatetimeIndex(['1990-12-19', '1990-12-20', '1990-12-21', '1990-12-24',\n",
       "               '1990-12-25', '1990-12-26', '1990-12-27', '1990-12-28',\n",
       "               '1990-12-31', '1991-01-02',\n",
       "               ...\n",
       "               '2020-02-19', '2020-02-20', '2020-02-21', '2020-02-24',\n",
       "               '2020-02-25', '2020-02-26', '2020-02-27', '2020-02-28',\n",
       "               '2020-03-02', '2020-03-03'],\n",
       "              dtype='datetime64[ns]', name='tradingDay', length=7143, freq=None)"
      ]
     },
     "execution_count": 73,
     "metadata": {},
     "output_type": "execute_result"
    }
   ],
   "source": [
    "print(type(dbu.get_trading_day()))\n",
    "dbu.get_trading_day()"
   ]
  },
  {
   "cell_type": "code",
   "execution_count": 49,
   "metadata": {},
   "outputs": [],
   "source": [
    "?datetime.time()"
   ]
  },
  {
   "cell_type": "code",
   "execution_count": 61,
   "metadata": {},
   "outputs": [
    {
     "data": {
      "text/plain": [
       "DatetimeIndex(['2016-07-02', '2016-07-03', '2016-07-04', '2016-07-05',\n",
       "               '2016-07-06', '2016-07-07', '2016-07-08', '2016-07-09'],\n",
       "              dtype='datetime64[ns]', freq='D')"
      ]
     },
     "execution_count": 61,
     "metadata": {},
     "output_type": "execute_result"
    }
   ],
   "source": [
    "rng1 = pd.date_range('2016 Jul 1', periods = 10, freq = 'D')\n",
    "ts = pd.Series(range(len(rng1)), index=rng1)\n",
    "ts['2016-07-02':'2016-07-09'].index"
   ]
  },
  {
   "cell_type": "code",
   "execution_count": 43,
   "metadata": {},
   "outputs": [
    {
     "ename": "TypeError",
     "evalue": "an integer is required (got type str)",
     "output_type": "error",
     "traceback": [
      "\u001b[0;31m---------------------------------------------------------------------------\u001b[0m",
      "\u001b[0;31mTypeError\u001b[0m                                 Traceback (most recent call last)",
      "\u001b[0;32m<ipython-input-43-b3530d9af117>\u001b[0m in \u001b[0;36m<module>\u001b[0;34m()\u001b[0m\n\u001b[1;32m      1\u001b[0m \u001b[0;32mimport\u001b[0m \u001b[0mdatetime\u001b[0m\u001b[0;34m\u001b[0m\u001b[0;34m\u001b[0m\u001b[0m\n\u001b[0;32m----> 2\u001b[0;31m \u001b[0ms\u001b[0m \u001b[0;34m=\u001b[0m \u001b[0mdatetime\u001b[0m\u001b[0;34m.\u001b[0m\u001b[0mtime\u001b[0m\u001b[0;34m(\u001b[0m\u001b[0;34m'2016-07-02'\u001b[0m\u001b[0;34m)\u001b[0m\u001b[0;34m\u001b[0m\u001b[0;34m\u001b[0m\u001b[0m\n\u001b[0m\u001b[1;32m      3\u001b[0m \u001b[0mprint\u001b[0m\u001b[0;34m(\u001b[0m\u001b[0ms\u001b[0m\u001b[0;34m)\u001b[0m\u001b[0;34m\u001b[0m\u001b[0;34m\u001b[0m\u001b[0m\n\u001b[1;32m      4\u001b[0m \u001b[0mtype\u001b[0m\u001b[0;34m(\u001b[0m\u001b[0ms\u001b[0m\u001b[0;34m)\u001b[0m\u001b[0;34m\u001b[0m\u001b[0;34m\u001b[0m\u001b[0m\n",
      "\u001b[0;31mTypeError\u001b[0m: an integer is required (got type str)"
     ]
    }
   ],
   "source": [
    "import datetime\n",
    "s = datetime.time('2016-07-02')\n",
    "print(s)\n",
    "type(s)"
   ]
  },
  {
   "cell_type": "code",
   "execution_count": 62,
   "metadata": {},
   "outputs": [
    {
     "data": {
      "text/plain": [
       "DatetimeIndex(['2016-07-01', '2016-07-02', '2016-07-03', '2016-07-04',\n",
       "               '2016-07-05', '2016-07-06', '2016-07-07', '2016-07-08',\n",
       "               '2016-07-09', '2016-07-10'],\n",
       "              dtype='datetime64[ns]', freq='D')"
      ]
     },
     "execution_count": 62,
     "metadata": {},
     "output_type": "execute_result"
    }
   ],
   "source": [
    "rng1"
   ]
  },
  {
   "cell_type": "code",
   "execution_count": 63,
   "metadata": {},
   "outputs": [
    {
     "data": {
      "text/plain": [
       "DatetimeIndex(['2016-07-01', '2016-07-02', '2016-07-03', '2016-07-04',\n",
       "               '2016-07-05', '2016-07-06', '2016-07-07', '2016-07-08',\n",
       "               '2016-07-09'],\n",
       "              dtype='datetime64[ns]', freq='D')"
      ]
     },
     "execution_count": 63,
     "metadata": {},
     "output_type": "execute_result"
    }
   ],
   "source": [
    "rng2 = pd.date_range('2016 Jul 1', periods = 9, freq = 'D')\n",
    "rng2"
   ]
  },
  {
   "cell_type": "code",
   "execution_count": 69,
   "metadata": {},
   "outputs": [
    {
     "data": {
      "text/plain": [
       "True"
      ]
     },
     "execution_count": 69,
     "metadata": {},
     "output_type": "execute_result"
    }
   ],
   "source": [
    "rng1.difference(rng1).empty"
   ]
  },
  {
   "cell_type": "code",
   "execution_count": 11,
   "metadata": {},
   "outputs": [],
   "source": [
    "df = pd.DataFrame(columns=['date','symbol'])"
   ]
  },
  {
   "cell_type": "code",
   "execution_count": 15,
   "metadata": {},
   "outputs": [
    {
     "data": {
      "text/html": [
       "<div>\n",
       "<style scoped>\n",
       "    .dataframe tbody tr th:only-of-type {\n",
       "        vertical-align: middle;\n",
       "    }\n",
       "\n",
       "    .dataframe tbody tr th {\n",
       "        vertical-align: top;\n",
       "    }\n",
       "\n",
       "    .dataframe thead th {\n",
       "        text-align: right;\n",
       "    }\n",
       "</style>\n",
       "<table border=\"1\" class=\"dataframe\">\n",
       "  <thead>\n",
       "    <tr style=\"text-align: right;\">\n",
       "      <th></th>\n",
       "      <th>date</th>\n",
       "      <th>symbol</th>\n",
       "    </tr>\n",
       "  </thead>\n",
       "  <tbody>\n",
       "    <tr>\n",
       "      <th>0</th>\n",
       "      <td>1</td>\n",
       "      <td>aaa</td>\n",
       "    </tr>\n",
       "  </tbody>\n",
       "</table>\n",
       "</div>"
      ],
      "text/plain": [
       "  date symbol\n",
       "0    1    aaa"
      ]
     },
     "execution_count": 15,
     "metadata": {},
     "output_type": "execute_result"
    }
   ],
   "source": [
    "df = df.append({'date':1,'symbol':'aaa'}, ignore_index=True)\n",
    "df"
   ]
  },
  {
   "cell_type": "code",
   "execution_count": 21,
   "metadata": {},
   "outputs": [
    {
     "name": "stdout",
     "output_type": "stream",
     "text": [
      "except\n"
     ]
    }
   ],
   "source": [
    "d = dict()\n",
    "try:\n",
    "    dict['a'] \n",
    "except:\n",
    "    print('except')"
   ]
  },
  {
   "cell_type": "code",
   "execution_count": 6,
   "metadata": {},
   "outputs": [
    {
     "data": {
      "text/html": [
       "<div>\n",
       "<style scoped>\n",
       "    .dataframe tbody tr th:only-of-type {\n",
       "        vertical-align: middle;\n",
       "    }\n",
       "\n",
       "    .dataframe tbody tr th {\n",
       "        vertical-align: top;\n",
       "    }\n",
       "\n",
       "    .dataframe thead th {\n",
       "        text-align: right;\n",
       "    }\n",
       "</style>\n",
       "<table border=\"1\" class=\"dataframe\">\n",
       "  <thead>\n",
       "    <tr style=\"text-align: right;\">\n",
       "      <th></th>\n",
       "      <th>a</th>\n",
       "      <th>b</th>\n",
       "    </tr>\n",
       "  </thead>\n",
       "  <tbody>\n",
       "    <tr>\n",
       "      <th>0</th>\n",
       "      <td>1</td>\n",
       "      <td>1</td>\n",
       "    </tr>\n",
       "    <tr>\n",
       "      <th>1</th>\n",
       "      <td>2</td>\n",
       "      <td>10</td>\n",
       "    </tr>\n",
       "    <tr>\n",
       "      <th>2</th>\n",
       "      <td>3</td>\n",
       "      <td>100</td>\n",
       "    </tr>\n",
       "    <tr>\n",
       "      <th>3</th>\n",
       "      <td>4</td>\n",
       "      <td>100</td>\n",
       "    </tr>\n",
       "  </tbody>\n",
       "</table>\n",
       "</div>"
      ],
      "text/plain": [
       "   a    b\n",
       "0  1    1\n",
       "1  2   10\n",
       "2  3  100\n",
       "3  4  100"
      ]
     },
     "execution_count": 6,
     "metadata": {},
     "output_type": "execute_result"
    }
   ],
   "source": [
    "df = pd.DataFrame(np.array([[1, 1], [2, 10], [3, 100], [4, 100]]),\n",
    "                  columns=['a', 'b'])\n",
    "df"
   ]
  },
  {
   "cell_type": "code",
   "execution_count": 7,
   "metadata": {},
   "outputs": [
    {
     "name": "stdout",
     "output_type": "stream",
     "text": [
      "start:  1568252077.4690166\n",
      "end:  1568252087.4792297\n",
      "type(end):  <class 'float'>\n",
      "end-start:  0:00:10.010213\n"
     ]
    }
   ],
   "source": [
    "from time import time\n",
    "from time import sleep\n",
    "import datetime\n",
    "\n",
    "start = time()\n",
    "sleep(10)\n",
    "end = time()\n",
    "print('start: ', start)\n",
    "print('end: ', end)\n",
    "print('type(end): ', type(end))\n",
    "print('end-start: ', datetime.timedelta(seconds=end - start))"
   ]
  }
 ],
 "metadata": {
  "kernelspec": {
   "display_name": "Python [conda env:anaconda3]",
   "language": "python",
   "name": "conda-env-anaconda3-py"
  },
  "language_info": {
   "codemirror_mode": {
    "name": "ipython",
    "version": 3
   },
   "file_extension": ".py",
   "mimetype": "text/x-python",
   "name": "python",
   "nbconvert_exporter": "python",
   "pygments_lexer": "ipython3",
   "version": "3.6.8"
  }
 },
 "nbformat": 4,
 "nbformat_minor": 2
}
